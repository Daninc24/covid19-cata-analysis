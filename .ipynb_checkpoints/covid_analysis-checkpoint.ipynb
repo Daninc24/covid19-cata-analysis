{
 "cells": [
  {
   "cell_type": "code",
   "execution_count": null,
   "id": "10455994",
   "metadata": {},
   "outputs": [],
   "source": [
    "# 📊 Load and inspect COVID-19 data\n",
    "import pandas as pd\n",
    "\n",
    "# Load the data\n",
    "df = pd.read_csv(\"owid-covid-data.csv\")\n",
    "\n",
    "# Check structure\n",
    "print(\"Shape:\", df.shape)\n",
    "print(\"\\nColumns:\\n\", df.columns)\n",
    "\n",
    "# Preview the data\n",
    "df.head()\n",
    "\n",
    "\n",
    "# Convert 'date' column to datetime\n",
    "df['date'] = pd.to_datetime(df['date'])\n",
    "\n",
    "# Choose a list of countries to analyze\n",
    "countries = ['Kenya', 'United States', 'India']\n",
    "\n",
    "# Filter data for those countries\n",
    "df_countries = df[df['location'].isin(countries)].copy()\n",
    "\n",
    "# Drop rows without a date or total_cases\n",
    "df_countries.dropna(subset=['date', 'total_cases'], inplace=True)\n",
    "\n",
    "# Fill missing numeric values with 0 or interpolate (choose one method)\n",
    "df_countries[['new_cases', 'new_deaths', 'total_deaths']] = df_countries[['new_cases', 'new_deaths', 'total_deaths']].fillna(0)\n",
    "\n",
    "# Or use interpolation if you prefer smoothing\n",
    "# df_countries[['total_cases', 'total_deaths']] = df_countries[['total_cases', 'total_deaths']].interpolate()\n",
    "\n",
    "# Confirm the cleaning\n",
    "df_countries.isnull().sum()\n",
    "df_countries.head()\n"
   ]
  },
  {
   "cell_type": "code",
   "execution_count": null,
   "id": "9a0a2a2b",
   "metadata": {},
   "outputs": [],
   "source": []
  }
 ],
 "metadata": {
  "language_info": {
   "name": "python"
  }
 },
 "nbformat": 4,
 "nbformat_minor": 5
}
